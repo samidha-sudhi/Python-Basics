{
  "nbformat": 4,
  "nbformat_minor": 0,
  "metadata": {
    "colab": {
      "provenance": [],
      "toc_visible": true,
      "authorship_tag": "ABX9TyNn6y7i6fXv+1hNwhO0tycY",
      "include_colab_link": true
    },
    "kernelspec": {
      "name": "python3",
      "display_name": "Python 3"
    },
    "language_info": {
      "name": "python"
    }
  },
  "cells": [
    {
      "cell_type": "markdown",
      "metadata": {
        "id": "view-in-github",
        "colab_type": "text"
      },
      "source": [
        "<a href=\"https://colab.research.google.com/gist/samidha-sudhi/c052eb821a0708271a93966604a96489/python_basics.ipynb\" target=\"_parent\"><img src=\"https://colab.research.google.com/assets/colab-badge.svg\" alt=\"Open In Colab\"/></a>"
      ]
    },
    {
      "cell_type": "code",
      "execution_count": null,
      "metadata": {
        "id": "oHhaV-wQTzgK"
      },
      "outputs": [],
      "source": []
    },
    {
      "cell_type": "markdown",
      "source": [
        "# 1. Phython Basics\n",
        "\n",
        "\n",
        "## Operators"
      ],
      "metadata": {
        "id": "N95vTB_xT3Ct"
      }
    },
    {
      "cell_type": "code",
      "source": [
        "b=10\n",
        "b*=2\n",
        "print (b)"
      ],
      "metadata": {
        "colab": {
          "base_uri": "https://localhost:8080/"
        },
        "id": "xbYfXL1aQVpA",
        "outputId": "5edd5abf-9925-4467-c58a-41928907998a"
      },
      "execution_count": null,
      "outputs": [
        {
          "output_type": "stream",
          "name": "stdout",
          "text": [
            "20\n"
          ]
        }
      ]
    },
    {
      "cell_type": "markdown",
      "source": [
        "## Variables and Data Types\n"
      ],
      "metadata": {
        "id": "l1uuGYh9TU6j"
      }
    },
    {
      "cell_type": "markdown",
      "source": [
        "Variables are used to store the information that can be referenced and transformed in a program. Python supports various data types such as Integer, Float, String and Boolean,"
      ],
      "metadata": {
        "id": "bUleh-DHv6A2"
      }
    },
    {
      "cell_type": "code",
      "source": [
        "#Integer Variable\n",
        "age = 50\n",
        "print(f'Age: {age} (Type: {type(age)})')\n",
        "\n",
        "#Float Variable\n",
        "height = 6.75\n",
        "print(f'Height: {height} (Type: {type(height)})')\n",
        "\n",
        "#String Variable\n",
        "string = \"Well Done!\"\n",
        "print(f'String: {string} (Type: {type(string)})')\n",
        "\n",
        "#Boolean Vraiable\n",
        "is_student = True\n",
        "print(f'Is student: {is_student} (Type: {type(is_student)})')\n"
      ],
      "metadata": {
        "colab": {
          "base_uri": "https://localhost:8080/"
        },
        "id": "AhQv6kPtTg_3",
        "outputId": "582fe43e-8338-4526-8588-c0674d15bff0"
      },
      "execution_count": null,
      "outputs": [
        {
          "output_type": "stream",
          "name": "stdout",
          "text": [
            "Age: 50 (Type: <class 'int'>)\n",
            "Height: 6.75 (Type: <class 'float'>)\n",
            "String: Well Done! (Type: <class 'str'>)\n",
            "Is student: True (Type: <class 'bool'>)\n"
          ]
        }
      ]
    },
    {
      "cell_type": "code",
      "source": [
        "#String variable\n",
        "text = \"All is Well!\"\n",
        "print(f'Text: {text} (Type: {type(text)})')\n",
        "\n",
        "text = 'All is Well!'\n",
        "print(f'Text: {text} (Type: {type(string)})')\n",
        "\n",
        "text = \"\"\"All is well\"\"\"\n",
        "print(f'Text: {text} (Type: {type(text)})')\n",
        "\n",
        "print(text)\n",
        "\n",
        "text = '''All is\n",
        "        well'''\n",
        "print(f'Text: {text} (Type: {type(text)})')"
      ],
      "metadata": {
        "colab": {
          "base_uri": "https://localhost:8080/"
        },
        "id": "ZNRHGJiPwd6U",
        "outputId": "69e946c3-a0f1-4ac8-fe6b-b132213ee81d"
      },
      "execution_count": null,
      "outputs": [
        {
          "output_type": "stream",
          "name": "stdout",
          "text": [
            "Text: All is Well! (Type: <class 'str'>)\n",
            "Text: All is Well! (Type: <class 'str'>)\n",
            "Text: All is well (Type: <class 'str'>)\n",
            "All is well\n",
            "Text: All is\n",
            "        well (Type: <class 'str'>)\n"
          ]
        }
      ]
    },
    {
      "cell_type": "code",
      "source": [
        "text = \"All\n",
        "is Well!\"\n",
        "print(f'Text: {text} (Type: {type(string)})')"
      ],
      "metadata": {
        "colab": {
          "base_uri": "https://localhost:8080/",
          "height": 108
        },
        "id": "h9yLTBwP3M1F",
        "outputId": "83d684f1-b719-4b39-eedd-253a4136a82b"
      },
      "execution_count": null,
      "outputs": [
        {
          "output_type": "error",
          "ename": "SyntaxError",
          "evalue": "unterminated string literal (detected at line 1) (<ipython-input-23-005f0c105314>, line 1)",
          "traceback": [
            "\u001b[0;36m  File \u001b[0;32m\"<ipython-input-23-005f0c105314>\"\u001b[0;36m, line \u001b[0;32m1\u001b[0m\n\u001b[0;31m    text = \"All\u001b[0m\n\u001b[0m           ^\u001b[0m\n\u001b[0;31mSyntaxError\u001b[0m\u001b[0;31m:\u001b[0m unterminated string literal (detected at line 1)\n"
          ]
        }
      ]
    },
    {
      "cell_type": "markdown",
      "source": [
        "## Methods in Strings\n",
        "\n",
        "Phython provides various methods to manipulate strings"
      ],
      "metadata": {
        "id": "CQjPmY1W3elt"
      }
    },
    {
      "cell_type": "code",
      "source": [
        "from types import resolve_bases\n",
        "#String method examples\n",
        "text = \"All is not Well!\"\n",
        "print(text.lower())\n",
        "print(text.upper())\n",
        "print(text.replace(\"not\",\"very\"))\n",
        "print(text.split(\" \"))\n",
        "\n",
        "list_str = ['All', 'is', 'going','Well!']\n",
        "print(' '.join(list_str))\n",
        "\n",
        "glue = '-'\n",
        "print(glue.join(list_str))\n",
        "\n",
        "text1 = \"let's learn python\"\n",
        "print(text1)\n",
        "\n",
        "text2 = 'let\\'s learn dance'\n",
        "print(text2)\n",
        "\n",
        "\n",
        "flower=\"Rose\"\n",
        "color=\"Red\"\n",
        "statement=\"Rose is Red\"\n",
        "print(statement)\n",
        "statement1=f\"{flower} is {color}\"\n",
        "print(statement1)"
      ],
      "metadata": {
        "colab": {
          "base_uri": "https://localhost:8080/"
        },
        "id": "u8VFB__B3d46",
        "outputId": "a29dd88c-6e51-4e7e-9f9e-ee0644f77e62"
      },
      "execution_count": null,
      "outputs": [
        {
          "output_type": "stream",
          "name": "stdout",
          "text": [
            "all is not well!\n",
            "ALL IS NOT WELL!\n",
            "All is very Well!\n",
            "['All', 'is', 'not', 'Well!']\n",
            "All is going Well!\n",
            "All-is-going-Well!\n",
            "let's learn python\n",
            "let's learn dance\n",
            "Rose is Red\n",
            "Rose is Red\n"
          ]
        }
      ]
    },
    {
      "cell_type": "markdown",
      "source": [
        "## Variable Types"
      ],
      "metadata": {
        "id": "CjELiYNj-hiA"
      }
    },
    {
      "cell_type": "code",
      "source": [
        "my_var = 1\n",
        "print(my_var, type(my_var))\n",
        "my_var = 1.23\n",
        "print(my_var, type(my_var) )\n",
        "my_var = True\n",
        "print(my_var, type(my_var))\n",
        "my_var = 'keep tyring'\n",
        "print(my_var, type(my_var))"
      ],
      "metadata": {
        "colab": {
          "base_uri": "https://localhost:8080/"
        },
        "id": "GgDn7pGr9Wmn",
        "outputId": "625ac7ad-f7e6-470f-cbd2-8b9b2a6fa3ca"
      },
      "execution_count": null,
      "outputs": [
        {
          "output_type": "stream",
          "name": "stdout",
          "text": [
            "1 <class 'int'>\n",
            "1.23 <class 'float'>\n",
            "True <class 'bool'>\n",
            "keep tyring <class 'str'>\n"
          ]
        }
      ]
    },
    {
      "cell_type": "markdown",
      "source": [
        "## Arithmetic Operators\n",
        "\n",
        "Arthimetic Operations are used to perform mathematical operations."
      ],
      "metadata": {
        "id": "jGeWBTAEH0qT"
      }
    },
    {
      "cell_type": "code",
      "source": [
        "a=10\n",
        "b=5\n",
        "print(f'Addition: {a}+{b}={a+b}')\n",
        "print(f'Substraction: {a}-{b}={a-b}')\n",
        "print(f'Multiplication: {a}*{b}={a*b}')\n",
        "print(f'Division: {a}/{b}={a/b}')\n",
        "print(f'Mod: {a}%{b}={a%b}')\n",
        "print(f'Exponent: {a} ** {b} = {a ** b}')"
      ],
      "metadata": {
        "colab": {
          "base_uri": "https://localhost:8080/"
        },
        "id": "gGBKVjnMIRJ3",
        "outputId": "b93eb02b-4849-41bb-e29d-489431f9ad16"
      },
      "execution_count": null,
      "outputs": [
        {
          "output_type": "stream",
          "name": "stdout",
          "text": [
            "Addition: 10+5=15\n",
            "Substraction: 10-5=5\n",
            "Multiplication: 10*5=50\n",
            "Division: 10/5=2.0\n",
            "Mod: 10%5=0\n",
            "Exponent: 10 ** 5 = 100000\n"
          ]
        }
      ]
    },
    {
      "cell_type": "markdown",
      "source": [
        "## Comparison Operators\n",
        "\n",
        "Comparison Operators are used to compare values"
      ],
      "metadata": {
        "id": "F0oURgnTJzO-"
      }
    },
    {
      "cell_type": "code",
      "source": [
        "x=10\n",
        "y=20\n",
        "print(f'{x} == {y}: {x==y}')\n",
        "print(f'{x} != {y}: {x != y}')\n",
        "print(f'{x} > {y}: {x>y}')\n",
        "print(f'{x} < {y}: {x<y}')\n",
        "print(f'{x} >= {y}: {x>=y}')\n",
        "print(f'{x} <= {y}: {x<=y}')"
      ],
      "metadata": {
        "colab": {
          "base_uri": "https://localhost:8080/"
        },
        "id": "6yl_KR7DJ3n5",
        "outputId": "27cf1839-a7d3-4f9b-f1d2-23528723adb0"
      },
      "execution_count": null,
      "outputs": [
        {
          "output_type": "stream",
          "name": "stdout",
          "text": [
            "10 == 20: False\n",
            "10 != 20: True\n",
            "10 > 20: False\n",
            "10 < 20: True\n",
            "10 >= 20: False\n",
            "10 <= 20: True\n"
          ]
        }
      ]
    },
    {
      "cell_type": "markdown",
      "source": [
        "## Logical Operators\n",
        "\n",
        "Logical Operators are used to combine conditional statements."
      ],
      "metadata": {
        "id": "4vJIpIvWL0U0"
      }
    },
    {
      "cell_type": "code",
      "source": [
        "p =  True\n",
        "q = False\n",
        "print (f'p and q: {p and q}')\n",
        "print (f'p or q: {p or q}')\n",
        "print (f' not p: {not p}')"
      ],
      "metadata": {
        "colab": {
          "base_uri": "https://localhost:8080/"
        },
        "id": "aAtWGT_0MRIL",
        "outputId": "ebe7b798-b8e1-48b7-c0ed-1dc872ca9d09"
      },
      "execution_count": null,
      "outputs": [
        {
          "output_type": "stream",
          "name": "stdout",
          "text": [
            "p and q: False\n",
            "p or q: True\n",
            " not p: False\n"
          ]
        }
      ]
    },
    {
      "cell_type": "markdown",
      "source": [
        "# 2. Python Data Structures"
      ],
      "metadata": {
        "id": "pop6t5NRNOqW"
      }
    },
    {
      "cell_type": "markdown",
      "source": [
        "This section covers various data structures in Python including lists, tuples, sets and dictionaries, common methods and operations for these data structures."
      ],
      "metadata": {
        "id": "3YPSSR5QN6iv"
      }
    },
    {
      "cell_type": "markdown",
      "source": [
        "## Lists\n",
        "Lists are ordered collection of items. Lists are mutable, meaning their contents can be changed. Here are some common methods and operations that can be performed on lists."
      ],
      "metadata": {
        "id": "NASgo8xRQxtO"
      }
    },
    {
      "cell_type": "code",
      "source": [
        "# List example\n",
        "\n",
        "fruits = ['apple', 'banana', 'cherry']\n",
        "\n",
        "print (fruits)\n",
        "\n",
        "# Append an item to the list\n",
        "fruits.append('orange')\n",
        "print(fruits)\n",
        "\n",
        "# Remove an item from the list\n",
        "fruits.remove('banana')\n",
        "print(fruits)\n",
        "\n",
        "#           0         1         2\n",
        "fruits = ['apple', 'cherry', 'orange']\n",
        "#          -3         -2        -1\n",
        "\n",
        "# Accessing list elements\n",
        "print(fruits[1]) #second item\n",
        "print(fruits[-1]) #last item\n"
      ],
      "metadata": {
        "colab": {
          "base_uri": "https://localhost:8080/"
        },
        "id": "quJcHioxQtWM",
        "outputId": "ea82f6da-7db6-4dc5-9a70-e5900e9d9dad"
      },
      "execution_count": null,
      "outputs": [
        {
          "output_type": "stream",
          "name": "stdout",
          "text": [
            "['apple', 'banana', 'cherry']\n",
            "['apple', 'banana', 'cherry', 'orange']\n",
            "['apple', 'cherry', 'orange']\n",
            "cherry\n",
            "orange\n"
          ]
        }
      ]
    },
    {
      "cell_type": "markdown",
      "source": [
        "## Slicing in Python\n",
        "\n",
        "Slicing is used to access a range of elements in a list or string."
      ],
      "metadata": {
        "id": "akjWJEIDSu7S"
      }
    },
    {
      "cell_type": "code",
      "source": [
        "#Slicing lists\n",
        "\n",
        "numbers = [0,1,2,3,4,5,6,7,8,9]\n",
        "\n",
        "print(numbers[2:5]) #Elelments from index 2 to 4\n",
        "print(numbers[:3]) #Elements from index 0 to 2]\n",
        "print(numbers[6:]) #Elements from index 6 to end\n",
        "print(numbers[6:2:-1]) #Elements from 6 to 3; -1 denotes numbers from right to left\n",
        "\n",
        "#Slicing strings\n",
        "\n",
        "text = 'Hello World!'\n",
        "#       123456789(10)(11)(12)\n",
        "\n",
        "print(text[7:11]) #chars from 7 to 10\n",
        "print(text[:5])\n",
        "print(text[7:])\n",
        "print(text[-6:])"
      ],
      "metadata": {
        "colab": {
          "base_uri": "https://localhost:8080/"
        },
        "id": "rEECet4FS9tI",
        "outputId": "2ab91496-40f3-4728-885a-2fbae35330a4"
      },
      "execution_count": null,
      "outputs": [
        {
          "output_type": "stream",
          "name": "stdout",
          "text": [
            "[2, 3, 4]\n",
            "[0, 1, 2]\n",
            "[6, 7, 8, 9]\n",
            "[6, 5, 4, 3]\n",
            "orld\n",
            "Hello\n",
            "orld!\n",
            "World!\n"
          ]
        }
      ]
    },
    {
      "cell_type": "markdown",
      "source": [
        "## Joining and Splitting Lists"
      ],
      "metadata": {
        "id": "Q9Q53hjGq7j3"
      }
    },
    {
      "cell_type": "markdown",
      "source": [
        "The join method is used to convert a list into string. The split method is used to split a string into a list."
      ],
      "metadata": {
        "id": "tiE7_CaQreJY"
      }
    },
    {
      "cell_type": "code",
      "source": [
        "# Join a list into a string\n",
        "words = ['Python', 'is', 'fun']\n",
        "sentence = ' '.join(words)\n",
        "print(sentence)\n",
        "\n",
        "# Split a string into a list\n",
        "text = 'Python is fun'\n",
        "word_list = text.split(' ')\n",
        "print(word_list)\n"
      ],
      "metadata": {
        "colab": {
          "base_uri": "https://localhost:8080/"
        },
        "id": "bVQnh0_nrB9P",
        "outputId": "d581516f-297e-4ba3-8791-96c9671b6985"
      },
      "execution_count": null,
      "outputs": [
        {
          "output_type": "stream",
          "name": "stdout",
          "text": [
            "Python is fun\n",
            "['Python', 'is', 'fun']\n"
          ]
        }
      ]
    },
    {
      "cell_type": "markdown",
      "source": [
        "## Tuples\n",
        "Tuples are collection of items, similar to lists. However, tuples are immutable, meaning their contents cannot be changed."
      ],
      "metadata": {
        "id": "FiVIfOHGspLo"
      }
    },
    {
      "cell_type": "code",
      "source": [
        "# Tuple examples\n",
        "dimensions = (1920,1080)\n",
        "print(dimensions)\n",
        "print(dimensions[0])\n",
        "print(dimensions[1])\n",
        "print(dimensions[-1])\n",
        "print(dimensions[-2])\n",
        "\n",
        "# Tuples are immutable\n",
        "dimensions[0] = 1990"
      ],
      "metadata": {
        "colab": {
          "base_uri": "https://localhost:8080/",
          "height": 287
        },
        "id": "MPaZSqchsvbl",
        "outputId": "dafd313f-944e-423e-85ba-d3333f1ba436"
      },
      "execution_count": null,
      "outputs": [
        {
          "output_type": "stream",
          "name": "stdout",
          "text": [
            "(1920, 1080)\n",
            "1920\n",
            "1080\n",
            "1080\n",
            "1920\n"
          ]
        },
        {
          "output_type": "error",
          "ename": "TypeError",
          "evalue": "'tuple' object does not support item assignment",
          "traceback": [
            "\u001b[0;31m---------------------------------------------------------------------------\u001b[0m",
            "\u001b[0;31mTypeError\u001b[0m                                 Traceback (most recent call last)",
            "\u001b[0;32m<ipython-input-68-2b4b73216f4d>\u001b[0m in \u001b[0;36m<cell line: 0>\u001b[0;34m()\u001b[0m\n\u001b[1;32m      7\u001b[0m \u001b[0mprint\u001b[0m\u001b[0;34m(\u001b[0m\u001b[0mdimensions\u001b[0m\u001b[0;34m[\u001b[0m\u001b[0;34m-\u001b[0m\u001b[0;36m2\u001b[0m\u001b[0;34m]\u001b[0m\u001b[0;34m)\u001b[0m\u001b[0;34m\u001b[0m\u001b[0;34m\u001b[0m\u001b[0m\n\u001b[1;32m      8\u001b[0m \u001b[0;34m\u001b[0m\u001b[0m\n\u001b[0;32m----> 9\u001b[0;31m \u001b[0mdimensions\u001b[0m\u001b[0;34m[\u001b[0m\u001b[0;36m0\u001b[0m\u001b[0;34m]\u001b[0m \u001b[0;34m=\u001b[0m \u001b[0;36m1990\u001b[0m\u001b[0;34m\u001b[0m\u001b[0;34m\u001b[0m\u001b[0m\n\u001b[0m\u001b[1;32m     10\u001b[0m \u001b[0;34m\u001b[0m\u001b[0m\n",
            "\u001b[0;31mTypeError\u001b[0m: 'tuple' object does not support item assignment"
          ]
        }
      ]
    },
    {
      "cell_type": "code",
      "source": [
        "lst = [1,9,2,8,7,5]\n",
        "print(lst)\n",
        "lst.sort()\n",
        "print(lst)"
      ],
      "metadata": {
        "colab": {
          "base_uri": "https://localhost:8080/"
        },
        "id": "iXUEgQkezyr6",
        "outputId": "fbdcb5a4-71cf-45cd-c60a-deff5b825749"
      },
      "execution_count": null,
      "outputs": [
        {
          "output_type": "stream",
          "name": "stdout",
          "text": [
            "[1, 9, 2, 8, 7, 5]\n",
            "[1, 2, 5, 7, 8, 9]\n"
          ]
        }
      ]
    },
    {
      "cell_type": "code",
      "source": [
        "tpl = (1,9,2,8,7,5)\n",
        "print(tpl)\n",
        "tpl.sort()\n",
        "print(tpl)"
      ],
      "metadata": {
        "colab": {
          "base_uri": "https://localhost:8080/",
          "height": 216
        },
        "id": "TdwVp7VI1KYB",
        "outputId": "3929b048-da13-448e-ad8b-2a484343596d"
      },
      "execution_count": null,
      "outputs": [
        {
          "output_type": "stream",
          "name": "stdout",
          "text": [
            "(1, 9, 2, 8, 7, 5)\n"
          ]
        },
        {
          "output_type": "error",
          "ename": "AttributeError",
          "evalue": "'tuple' object has no attribute 'sort'",
          "traceback": [
            "\u001b[0;31m---------------------------------------------------------------------------\u001b[0m",
            "\u001b[0;31mAttributeError\u001b[0m                            Traceback (most recent call last)",
            "\u001b[0;32m<ipython-input-70-46c797200cbe>\u001b[0m in \u001b[0;36m<cell line: 0>\u001b[0;34m()\u001b[0m\n\u001b[1;32m      1\u001b[0m \u001b[0mtpl\u001b[0m \u001b[0;34m=\u001b[0m \u001b[0;34m(\u001b[0m\u001b[0;36m1\u001b[0m\u001b[0;34m,\u001b[0m\u001b[0;36m9\u001b[0m\u001b[0;34m,\u001b[0m\u001b[0;36m2\u001b[0m\u001b[0;34m,\u001b[0m\u001b[0;36m8\u001b[0m\u001b[0;34m,\u001b[0m\u001b[0;36m7\u001b[0m\u001b[0;34m,\u001b[0m\u001b[0;36m5\u001b[0m\u001b[0;34m)\u001b[0m\u001b[0;34m\u001b[0m\u001b[0;34m\u001b[0m\u001b[0m\n\u001b[1;32m      2\u001b[0m \u001b[0mprint\u001b[0m\u001b[0;34m(\u001b[0m\u001b[0mtpl\u001b[0m\u001b[0;34m)\u001b[0m\u001b[0;34m\u001b[0m\u001b[0;34m\u001b[0m\u001b[0m\n\u001b[0;32m----> 3\u001b[0;31m \u001b[0mtpl\u001b[0m\u001b[0;34m.\u001b[0m\u001b[0msort\u001b[0m\u001b[0;34m(\u001b[0m\u001b[0;34m)\u001b[0m\u001b[0;34m\u001b[0m\u001b[0;34m\u001b[0m\u001b[0m\n\u001b[0m\u001b[1;32m      4\u001b[0m \u001b[0mprint\u001b[0m\u001b[0;34m(\u001b[0m\u001b[0mtpl\u001b[0m\u001b[0;34m)\u001b[0m\u001b[0;34m\u001b[0m\u001b[0;34m\u001b[0m\u001b[0m\n",
            "\u001b[0;31mAttributeError\u001b[0m: 'tuple' object has no attribute 'sort'"
          ]
        }
      ]
    },
    {
      "cell_type": "code",
      "source": [
        "lst = [1,2,7,9,4,5]\n",
        "print(lst, type(lst))\n",
        "print(len(lst))\n",
        "tpl = tuple(lst)\n",
        "print(tpl, type(tpl))\n",
        "print(len(tpl))\n",
        "my_str = 'This is Python'\n",
        "print(my_str, type(my_str))\n",
        "print(len(my_str))"
      ],
      "metadata": {
        "colab": {
          "base_uri": "https://localhost:8080/"
        },
        "id": "tAVtgUrJdJ9v",
        "outputId": "5d4f666c-6a49-4178-980a-911a43eae52c"
      },
      "execution_count": null,
      "outputs": [
        {
          "output_type": "stream",
          "name": "stdout",
          "text": [
            "[1, 2, 7, 9, 4, 5] <class 'list'>\n",
            "6\n",
            "(1, 2, 7, 9, 4, 5) <class 'tuple'>\n",
            "6\n",
            "This is Python <class 'str'>\n",
            "14\n"
          ]
        }
      ]
    },
    {
      "cell_type": "code",
      "source": [
        "for some_var in lst:\n",
        "  print(some_var)"
      ],
      "metadata": {
        "colab": {
          "base_uri": "https://localhost:8080/"
        },
        "id": "qpYQeRyifMgG",
        "outputId": "8c403da4-db6a-4621-8596-e44b8e3cd789"
      },
      "execution_count": null,
      "outputs": [
        {
          "output_type": "stream",
          "name": "stdout",
          "text": [
            "1\n",
            "2\n",
            "7\n",
            "9\n",
            "4\n",
            "5\n"
          ]
        }
      ]
    },
    {
      "cell_type": "code",
      "source": [
        "for some_var in my_str:\n",
        "   print (some_var)"
      ],
      "metadata": {
        "colab": {
          "base_uri": "https://localhost:8080/"
        },
        "id": "_9lJHgW_ftMh",
        "outputId": "0d9a7653-3ce9-47f3-a50e-77b7b185d17b"
      },
      "execution_count": null,
      "outputs": [
        {
          "output_type": "stream",
          "name": "stdout",
          "text": [
            "T\n",
            "h\n",
            "i\n",
            "s\n",
            " \n",
            "i\n",
            "s\n",
            " \n",
            "P\n",
            "y\n",
            "t\n",
            "h\n",
            "o\n",
            "n\n"
          ]
        }
      ]
    },
    {
      "cell_type": "code",
      "source": [
        "fruits = {'apple','banana','orange'}\n",
        "print(fruits)\n",
        "print(len(fruits))\n",
        "for some_var in fruits:\n",
        "  print(some_var)"
      ],
      "metadata": {
        "colab": {
          "base_uri": "https://localhost:8080/"
        },
        "id": "kTBivGXKfym7",
        "outputId": "e1255b03-522c-4f5d-ac09-1aea4fbadc60"
      },
      "execution_count": null,
      "outputs": [
        {
          "output_type": "stream",
          "name": "stdout",
          "text": [
            "{'banana', 'apple', 'orange'}\n",
            "3\n",
            "banana\n",
            "apple\n",
            "orange\n"
          ]
        }
      ]
    },
    {
      "cell_type": "markdown",
      "source": [
        "##Sets\n",
        "Sets are unordered collection of unique items. They are mutable and allow for efficient membership testing."
      ],
      "metadata": {
        "id": "tqdQyXZ_frWU"
      }
    },
    {
      "cell_type": "code",
      "source": [
        "fruits = {'apple', 'banana', 'cherry'}\n",
        "print (fruits)\n",
        "\n",
        "fruits.add('orange')\n",
        "print(fruits)\n",
        "\n",
        "fruits.remove('banana')\n",
        "print(fruits)\n",
        "\n",
        "fruits.update(['grapes','papaya'])\n",
        "print(fruits)\n"
      ],
      "metadata": {
        "colab": {
          "base_uri": "https://localhost:8080/"
        },
        "id": "WpbEkzRbhUSN",
        "outputId": "4c1b7fc3-8e8d-488f-f37e-b5b782dad5cf"
      },
      "execution_count": null,
      "outputs": [
        {
          "output_type": "stream",
          "name": "stdout",
          "text": [
            "{'cherry', 'apple', 'banana'}\n",
            "{'cherry', 'apple', 'banana', 'orange'}\n",
            "{'cherry', 'apple', 'orange'}\n",
            "{'grapes', 'papaya', 'orange', 'cherry', 'apple'}\n"
          ]
        }
      ]
    },
    {
      "cell_type": "markdown",
      "source": [
        "##Dictionaries\n",
        "\n",
        "Dictionaries are collection of key-value pairs. They are unordered and mutable."
      ],
      "metadata": {
        "id": "om3Kj4wpXThE"
      }
    },
    {
      "cell_type": "code",
      "source": [
        "st = {1,2}\n",
        "dc = {\"one\":1, \"two\":2}\n",
        "\n",
        "# Python dict can have any values, even duplicates.\n",
        "# Python dict key has to be unique and immutable.\n",
        "\n",
        "student = {\n",
        "    'name': 'Alice',\n",
        "    'age': 25,\n",
        "    'course': ['Math', 'CompSci']\n",
        "    }\n",
        "print(student)\n",
        "\n",
        "# Accessing dict values\n",
        "print(student['name'])\n",
        "print(student['age'])\n",
        "\n",
        "# Adding or updating data dict values\n",
        "student['phone'] = '469-469-4690'\n",
        "student['age'] = 26\n",
        "student['course'] = ['English']\n",
        "print(student)\n",
        "\n"
      ],
      "metadata": {
        "colab": {
          "base_uri": "https://localhost:8080/"
        },
        "id": "nYEjfsfQXlwz",
        "outputId": "681dcf11-ff30-431e-8ce7-b6ff3965eacd"
      },
      "execution_count": null,
      "outputs": [
        {
          "output_type": "stream",
          "name": "stdout",
          "text": [
            "{'name': 'Alice', 'age': 25, 'course': ['Math', 'CompSci']}\n",
            "Alice\n",
            "25\n",
            "{'name': 'Alice', 'age': 26, 'course': ['English'], 'phone': '469-469-4690'}\n"
          ]
        }
      ]
    },
    {
      "cell_type": "markdown",
      "source": [
        "# 3. Python Control Flow and Loops\n",
        "\n",
        "Covers:\n",
        "- control flow statements\n",
        "- loops in Python\n",
        "- if, if-else, if-elif, if-elif-else, loops, nested loops, break and continue statements and functions\n",
        "\n",
        "## If Statements\n",
        " The if statements are used to test a condition and execute a block of code if the condition is true"
      ],
      "metadata": {
        "id": "CoHU0ttlimvP"
      }
    },
    {
      "cell_type": "code",
      "source": [
        "a = 10\n",
        "if a > 5:\n",
        " print(f'{a} is greater than 5')\n",
        " print(a>5)"
      ],
      "metadata": {
        "id": "T8L-IgGOjSR5",
        "colab": {
          "base_uri": "https://localhost:8080/"
        },
        "outputId": "5c55a37a-b0b7-44a3-ab39-a79fd57993d0"
      },
      "execution_count": null,
      "outputs": [
        {
          "output_type": "stream",
          "name": "stdout",
          "text": [
            "10 is greater than 5\n",
            "True\n"
          ]
        }
      ]
    },
    {
      "cell_type": "code",
      "source": [
        "x=15\n",
        "if x>5:\n",
        "  print(\"This is indented\")\n",
        "  y=x-10\n",
        "  #print(f'y={y}')\n",
        "  print(y)\n",
        "print('Runs no matter what')"
      ],
      "metadata": {
        "colab": {
          "base_uri": "https://localhost:8080/"
        },
        "id": "KY0GBGNUnyuq",
        "outputId": "4be1e7ec-ab83-4c38-c2a7-be4321687542"
      },
      "execution_count": null,
      "outputs": [
        {
          "output_type": "stream",
          "name": "stdout",
          "text": [
            "This is indented\n",
            "5\n",
            "Runs no matter what\n"
          ]
        }
      ]
    },
    {
      "cell_type": "code",
      "source": [
        "# if statement example\n",
        "x = 115\n",
        "if x > 5:\n",
        "  print(f'{x} is greater than 5')\n",
        "print(\"Done running\")\n"
      ],
      "metadata": {
        "colab": {
          "base_uri": "https://localhost:8080/"
        },
        "id": "i1YhttTBo8bI",
        "outputId": "5d8c59b0-5b14-4b8a-865b-4715ab482f50"
      },
      "execution_count": null,
      "outputs": [
        {
          "output_type": "stream",
          "name": "stdout",
          "text": [
            "115 is greater than 5\n",
            "Done running\n"
          ]
        }
      ]
    },
    {
      "cell_type": "markdown",
      "source": [
        "## If-Else Statement\n",
        "\n",
        "The if-else statement is used to execute one block of code if the condition is true and another block of code if the condition is false"
      ],
      "metadata": {
        "id": "ucI8sXXvpluI"
      }
    },
    {
      "cell_type": "code",
      "source": [
        "#if else statement example\n",
        "x=10\n",
        "if x > 15:\n",
        "  print(f'({x} is greater than 15')\n",
        "else:\n",
        "  print(f'{x} is not greater than 15')"
      ],
      "metadata": {
        "colab": {
          "base_uri": "https://localhost:8080/"
        },
        "id": "c-a0ipVGqA7p",
        "outputId": "bc67b44d-47a3-4643-85e3-90a6e8b116a3"
      },
      "execution_count": null,
      "outputs": [
        {
          "output_type": "stream",
          "name": "stdout",
          "text": [
            "10 is not greater than 15\n"
          ]
        }
      ]
    },
    {
      "cell_type": "markdown",
      "source": [
        "# If-Elif Statement\n",
        "\n",
        "The If-Elif condition is used to check multiple conditions. If the first condition is false then it checks the next condition and so on."
      ],
      "metadata": {
        "id": "ZBiqTeH4jNtW"
      }
    },
    {
      "cell_type": "code",
      "source": [
        "# If-elif statement example\n",
        "x = 10\n",
        "if x > 15:\n",
        "  print(f'{x} is greater than 15')\n",
        "elif x > 5:\n",
        "  print(f'{x} is greater than 5 but not greater than 15')"
      ],
      "metadata": {
        "colab": {
          "base_uri": "https://localhost:8080/"
        },
        "id": "GSKeBr35jWOk",
        "outputId": "25148458-cf71-4f07-f99d-dee605821048"
      },
      "execution_count": null,
      "outputs": [
        {
          "output_type": "stream",
          "name": "stdout",
          "text": [
            "10 is greater than 5 but not greater than 15\n"
          ]
        }
      ]
    },
    {
      "cell_type": "markdown",
      "source": [
        "## If-Elif-Else Statement\n",
        "\n",
        "The if-elif-else statement is used to test multiple conditions and excute different blocks of code based on which condition is true"
      ],
      "metadata": {
        "id": "dw-F66sMoIPQ"
      }
    },
    {
      "cell_type": "code",
      "source": [
        "# If-elif-else statement example\n",
        "x = 4\n",
        "if x > 15:\n",
        "  print(f'{x} is greater than 15')\n",
        "elif x > 10:\n",
        "  print (f'{x} is greater than 10 but not greater than 15')\n",
        "elif x > 5:\n",
        "  print (f'{x} is greater than 5 but not greater than 10')\n",
        "else:\n",
        "  print (f'{x} is not greater than 5')"
      ],
      "metadata": {
        "colab": {
          "base_uri": "https://localhost:8080/"
        },
        "id": "QQpt3p0voDss",
        "outputId": "281c6a14-323b-419f-fb34-9e933e76b056"
      },
      "execution_count": null,
      "outputs": [
        {
          "output_type": "stream",
          "name": "stdout",
          "text": [
            "4 is not greater than 5\n"
          ]
        }
      ]
    },
    {
      "cell_type": "markdown",
      "source": [
        "## Loops\n",
        "Loops are used to execute a block of code multiple times. Python supports for and while loops.\n",
        "\n",
        "### For loops\n",
        "\n",
        "The for loop is used to iterate over a sequence (such as list, tuple or string)and execute block of code for each item in the sequence.\n",
        "\n"
      ],
      "metadata": {
        "id": "1T7tQcVptIpr"
      }
    },
    {
      "cell_type": "code",
      "source": [
        "# For loop example\n",
        "fruits = {'apple', 'banana', 'orange'}\n",
        "for fruit in fruits:\n",
        "  print(fruit)"
      ],
      "metadata": {
        "colab": {
          "base_uri": "https://localhost:8080/"
        },
        "id": "_kRHn5mGtYA-",
        "outputId": "814d46fe-a46f-4db7-c383-569c95791422"
      },
      "execution_count": null,
      "outputs": [
        {
          "output_type": "stream",
          "name": "stdout",
          "text": [
            "banana\n",
            "apple\n",
            "orange\n"
          ]
        }
      ]
    },
    {
      "cell_type": "markdown",
      "source": [
        "## While Loops\n",
        "The While loop is used to execute the block of code as long as a condition is true,\n",
        "\n"
      ],
      "metadata": {
        "id": "zZfey9i_vHyK"
      }
    },
    {
      "cell_type": "code",
      "source": [
        "# While loop example\n",
        "count = 0\n",
        "while count < 5:\n",
        "  print (count)\n",
        "  count += 1\n"
      ],
      "metadata": {
        "colab": {
          "base_uri": "https://localhost:8080/"
        },
        "id": "nNbcb-o5vZtE",
        "outputId": "60fd917c-4d9f-4f8c-8623-66b5cbd9a582"
      },
      "execution_count": null,
      "outputs": [
        {
          "output_type": "stream",
          "name": "stdout",
          "text": [
            "0\n",
            "1\n",
            "2\n",
            "3\n",
            "4\n"
          ]
        }
      ]
    },
    {
      "cell_type": "markdown",
      "source": [
        "## Nested Loops\n",
        "\n",
        "Nested Loops are loops within Loops. The inner loop is executed for each iteration of outer loop."
      ],
      "metadata": {
        "id": "TlTZw0QAxVhr"
      }
    },
    {
      "cell_type": "code",
      "source": [
        "for i in range(5):\n",
        "  print(i)"
      ],
      "metadata": {
        "colab": {
          "base_uri": "https://localhost:8080/"
        },
        "id": "XrL45uhFxn7z",
        "outputId": "ea39e7fa-d2da-4596-c2e8-4e1263fd561f"
      },
      "execution_count": null,
      "outputs": [
        {
          "output_type": "stream",
          "name": "stdout",
          "text": [
            "0\n",
            "1\n",
            "2\n",
            "3\n",
            "4\n"
          ]
        }
      ]
    },
    {
      "cell_type": "code",
      "source": [
        "for i in range (2,5):\n",
        "  print(i)"
      ],
      "metadata": {
        "colab": {
          "base_uri": "https://localhost:8080/"
        },
        "id": "t9ZJSH3FycM7",
        "outputId": "1fe2ca73-e564-4845-febd-0761bc8676d2"
      },
      "execution_count": null,
      "outputs": [
        {
          "output_type": "stream",
          "name": "stdout",
          "text": [
            "2\n",
            "3\n",
            "4\n"
          ]
        }
      ]
    },
    {
      "cell_type": "code",
      "source": [
        "for i in range (2,5,2):\n",
        "  print(i)"
      ],
      "metadata": {
        "colab": {
          "base_uri": "https://localhost:8080/"
        },
        "id": "AEJlDKN5yi1M",
        "outputId": "7b2dfd4d-c0da-43b4-f4c2-c958815508c8"
      },
      "execution_count": null,
      "outputs": [
        {
          "output_type": "stream",
          "name": "stdout",
          "text": [
            "2\n",
            "4\n"
          ]
        }
      ]
    },
    {
      "cell_type": "code",
      "source": [
        "# Nested loop example\n",
        "for i in range(3):\n",
        "  for j in range(2):\n",
        "    print(f'i = {i}, j = {j}')"
      ],
      "metadata": {
        "colab": {
          "base_uri": "https://localhost:8080/"
        },
        "id": "c9eENK5hzEem",
        "outputId": "e3f3f0f7-5658-4db2-ae97-a2abd171bd10"
      },
      "execution_count": null,
      "outputs": [
        {
          "output_type": "stream",
          "name": "stdout",
          "text": [
            "i = 0, j = 0\n",
            "i = 0, j = 1\n",
            "i = 1, j = 0\n",
            "i = 1, j = 1\n",
            "i = 2, j = 0\n",
            "i = 2, j = 1\n"
          ]
        }
      ]
    },
    {
      "cell_type": "code",
      "source": [
        "# Nested loop example\n",
        "for i in range(3):\n",
        "  for j in range(2):\n",
        "    for k in range(3):\n",
        "      print(f'i={i}, j={j}, k={k}')"
      ],
      "metadata": {
        "colab": {
          "base_uri": "https://localhost:8080/"
        },
        "id": "XD4brFEQ0V-X",
        "outputId": "00b16e54-9865-42b7-ce29-82573a52db23"
      },
      "execution_count": null,
      "outputs": [
        {
          "output_type": "stream",
          "name": "stdout",
          "text": [
            "i=0, j=0, k=0\n",
            "i=0, j=0, k=1\n",
            "i=0, j=0, k=2\n",
            "i=0, j=1, k=0\n",
            "i=0, j=1, k=1\n",
            "i=0, j=1, k=2\n",
            "i=1, j=0, k=0\n",
            "i=1, j=0, k=1\n",
            "i=1, j=0, k=2\n",
            "i=1, j=1, k=0\n",
            "i=1, j=1, k=1\n",
            "i=1, j=1, k=2\n",
            "i=2, j=0, k=0\n",
            "i=2, j=0, k=1\n",
            "i=2, j=0, k=2\n",
            "i=2, j=1, k=0\n",
            "i=2, j=1, k=1\n",
            "i=2, j=1, k=2\n"
          ]
        }
      ]
    },
    {
      "cell_type": "markdown",
      "source": [
        "## Break and Continue\n",
        "Break statement is used to exit the loop prematurely, and continue statement is used to skip the current iteration and proceed to the next iteration."
      ],
      "metadata": {
        "id": "3Zmkv2FW0xBs"
      }
    },
    {
      "cell_type": "code",
      "source": [
        "# Break statement\n",
        "for i in range(5):\n",
        "  if i == 3:\n",
        "    break\n",
        "  print(i)\n",
        "print('-----------------')\n",
        "for i in range(5):\n",
        "  if i == 3:\n",
        "    continue\n",
        "  print(i)\n"
      ],
      "metadata": {
        "colab": {
          "base_uri": "https://localhost:8080/"
        },
        "id": "nGrNwSbzPhzd",
        "outputId": "28ba951f-60b6-403a-f06f-a1b3b9484cae"
      },
      "execution_count": null,
      "outputs": [
        {
          "output_type": "stream",
          "name": "stdout",
          "text": [
            "0\n",
            "1\n",
            "2\n",
            "-----------------\n",
            "0\n",
            "1\n",
            "2\n",
            "4\n"
          ]
        }
      ]
    },
    {
      "cell_type": "markdown",
      "source": [
        "## Functions\n",
        "\n",
        "Functions are reusable blocks of code that perform a specific task. They are defined using def keyword."
      ],
      "metadata": {
        "id": "Jvykm9hOihDL"
      }
    },
    {
      "cell_type": "code",
      "source": [
        "# Function example\n",
        "def greet(name):\n",
        "  return f'Hello,{name}!'\n",
        "\n",
        "# Call the function\n",
        "print(greet('Alice'))\n",
        "print(greet('Bob'))"
      ],
      "metadata": {
        "colab": {
          "base_uri": "https://localhost:8080/"
        },
        "id": "WMlReYzBlgyL",
        "outputId": "a3eca994-f9a5-4d68-f894-6fd560f240c4"
      },
      "execution_count": null,
      "outputs": [
        {
          "output_type": "stream",
          "name": "stdout",
          "text": [
            "Hello,Alice!\n",
            "Hello,Bob!\n"
          ]
        }
      ]
    },
    {
      "cell_type": "code",
      "source": [
        "def greet_family(father, mother, sister, brother):\n",
        "  return f'Hello, {[father, mother, sister, brother]}'\n",
        "print(greet_family(\"Tom\", \"Susan\", \"Riya\", \"Sam\"))\n",
        "print('-----')\n",
        "print(greet_family(mother=\"Alice\", father = \"Ram\", sister =\"Shiny\", brother = \"surya\"))\n",
        "print(greet_family(\"one\",\"two\",sister=\"three\",brother=\"four\"))\n"
      ],
      "metadata": {
        "colab": {
          "base_uri": "https://localhost:8080/"
        },
        "id": "yutLE7UVmvAk",
        "outputId": "8c3e6d7f-f253-406e-9f9d-974310fdfa1d"
      },
      "execution_count": null,
      "outputs": [
        {
          "output_type": "stream",
          "name": "stdout",
          "text": [
            "Hello, ['Tom', 'Susan', 'Riya', 'Sam']\n",
            "-----\n",
            "Hello, ['Ram', 'Alice', 'Shiny', 'surya']\n",
            "Hello, ['one', 'two', 'three', 'four']\n"
          ]
        }
      ]
    },
    {
      "cell_type": "markdown",
      "source": [
        "# 4. Python_Advanced_Concepts"
      ],
      "metadata": {
        "id": "b5y52IsUs3ir"
      }
    },
    {
      "cell_type": "code",
      "source": [],
      "metadata": {
        "id": "74PSVEmwtU_G"
      },
      "execution_count": null,
      "outputs": []
    },
    {
      "cell_type": "markdown",
      "source": [
        "##  Lambda functions"
      ],
      "metadata": {
        "id": "42aLQ-FRtZ61"
      }
    },
    {
      "cell_type": "code",
      "source": [
        "add = lambda x, y: x + y\n",
        "print(add(2,3))\n",
        "print('-----------')\n",
        "square = lambda x:x**2\n",
        "print(square(2))"
      ],
      "metadata": {
        "colab": {
          "base_uri": "https://localhost:8080/"
        },
        "id": "bGiIin0Ptity",
        "outputId": "b1b28391-708b-4327-8818-3a1ed2087835"
      },
      "execution_count": null,
      "outputs": [
        {
          "output_type": "stream",
          "name": "stdout",
          "text": [
            "5\n",
            "-----------\n",
            "4\n"
          ]
        }
      ]
    },
    {
      "cell_type": "code",
      "source": [
        "def apply_func2list(lst, fnc):\n",
        "  for element in lst:\n",
        "    print(fnc(element))\n",
        "lst = [1,2,3]\n",
        "apply_func2list(lst, lambda x: x**2)"
      ],
      "metadata": {
        "colab": {
          "base_uri": "https://localhost:8080/"
        },
        "id": "Xwgs3bvYwcDH",
        "outputId": "4f8e93cf-22ce-42fd-ea7d-09edce97c97a"
      },
      "execution_count": null,
      "outputs": [
        {
          "output_type": "stream",
          "name": "stdout",
          "text": [
            "1\n",
            "4\n",
            "9\n"
          ]
        }
      ]
    },
    {
      "cell_type": "code",
      "source": [
        "sub = lambda x, y: x-y\n",
        "ans = sub(2,3)\n",
        "print(ans)\n",
        "ans = sub (2.5,3)\n",
        "print(ans)"
      ],
      "metadata": {
        "colab": {
          "base_uri": "https://localhost:8080/"
        },
        "id": "USTLyE8kx5Rt",
        "outputId": "8b8f476d-1dd0-40f5-f749-8d221604beb2"
      },
      "execution_count": null,
      "outputs": [
        {
          "output_type": "stream",
          "name": "stdout",
          "text": [
            "-1\n",
            "-0.5\n"
          ]
        }
      ]
    },
    {
      "cell_type": "code",
      "source": [
        "def f(**args): #here args stores key value\n",
        "  return 1"
      ],
      "metadata": {
        "id": "V4eXGNgD3Cgt"
      },
      "execution_count": null,
      "outputs": []
    },
    {
      "cell_type": "markdown",
      "source": [
        "## Classes\n",
        "Classes are used to define the blueprint for objects. They encapsulate data and functions that operate on the data. Here are some basic concepts of classes."
      ],
      "metadata": {
        "id": "vC_Nd0Cw34Gv"
      }
    },
    {
      "cell_type": "code",
      "source": [
        "# simple class example\n",
        "class Dog:\n",
        "  def __init__(self, name, age):\n",
        "    self.name = name\n",
        "    self.age = age\n",
        "\n",
        "  def bark(self):\n",
        "     return f'{self.name} says woof!'\n",
        "\n",
        "  def bark_noObj(my_obj):\n",
        "     return f'says woof!'\n",
        "\n",
        "# creating as instance of Dog Class\n",
        "#my_dog = Dog('Buddy',3)\n",
        "my_dog = Dog('Buddy', 3)\n",
        "print(my_dog.name)\n",
        "print(my_dog.age)\n",
        "print(my_dog.bark())\n",
        "print(my_dog.bark_noObj())\n",
        "\n",
        "print('-------------')\n",
        "your_dog = Dog('Tom', 5)\n",
        "print(your_dog.name)\n",
        "print(your_dog.age)\n",
        "print(your_dog.bark())\n",
        "print(your_dog.bark_noObj())"
      ],
      "metadata": {
        "colab": {
          "base_uri": "https://localhost:8080/"
        },
        "id": "hwi49HPx4UqP",
        "outputId": "727b60ef-5097-40c7-994e-f2aed2aa3f59"
      },
      "execution_count": null,
      "outputs": [
        {
          "output_type": "stream",
          "name": "stdout",
          "text": [
            "Buddy\n",
            "3\n",
            "Buddy says woof!\n",
            "says woof!\n",
            "-------------\n",
            "Tom\n",
            "5\n",
            "Tom says woof!\n",
            "says woof!\n"
          ]
        }
      ]
    },
    {
      "cell_type": "markdown",
      "source": [
        "## Using self in Classes\n",
        "\n",
        "The self parameter is reference to the current instance of the class. It is used to access variables and methods associated with the class\n",
        "\n",
        "The __init__ method is a sepcial method called constructor. It is invoked when a new instance of the class is created.\n",
        "\n",
        "### Inheritance\n",
        "Inheritance is a mechanism in which a new class inherits attributes and methods from an existing class.\n",
        "\n",
        "super() function is used to call a method from parent class"
      ],
      "metadata": {
        "id": "Rej0SbYkc3BB"
      }
    },
    {
      "cell_type": "code",
      "source": [
        "# Inheritance Example\n",
        "class Animal:\n",
        "  def __init__(self,name):\n",
        "    self.name = name\n",
        "\n",
        "  def eat(self):\n",
        "     return f'{self.name} eats'\n",
        "\n",
        "class Cat(Animal):\n",
        "  def __init__(self, name, color):\n",
        "     super().__init__(name)\n",
        "     self.color = color\n",
        "\n",
        "  def speak(self):\n",
        "      return f'{self.name} speaks meow'\n",
        "\n",
        "class Dog(Animal):\n",
        "  isDog = True\n",
        "  def __init__(self, name, color):\n",
        "    super().__init__(name)\n",
        "    Cat_comp = Cat('Tom','Brown')\n",
        "    self.color = color\n",
        "\n",
        "  def speak(self):\n",
        "      return f'{self.name} speaks whoof'\n",
        "\n",
        "  @staticmethod\n",
        "  def wagTail():\n",
        "    return f'Dog wags Tail'\n",
        "\n",
        "my_cat = Cat('Whiskers','Grey')\n",
        "print(my_cat.name)\n",
        "print(my_cat.color)\n",
        "print(my_cat.speak())\n",
        "print(my_cat.eat())\n",
        "\n",
        "print('-----------')\n",
        "my_dog = Dog('Tom','Brown')\n",
        "print(my_dog.name)\n",
        "print(my_dog.color)\n",
        "print(my_dog.speak())\n",
        "print(my_dog.eat())\n",
        "print(my_dog.wagTail())\n",
        "print(my_dog.isDog)\n",
        "\n",
        "\n",
        "\n",
        "\n",
        "\n"
      ],
      "metadata": {
        "id": "5NIxhEEuATSi",
        "colab": {
          "base_uri": "https://localhost:8080/"
        },
        "outputId": "762bd14a-fdf9-494c-ed61-49f0b7ef563f"
      },
      "execution_count": null,
      "outputs": [
        {
          "output_type": "stream",
          "name": "stdout",
          "text": [
            "Whiskers\n",
            "Grey\n",
            "Whiskers speaks meow\n",
            "Whiskers eats\n",
            "-----------\n",
            "Tom\n",
            "Brown\n",
            "Tom speaks whoof\n",
            "Tom eats\n",
            "Dog wags Tail\n",
            "True\n"
          ]
        }
      ]
    },
    {
      "cell_type": "markdown",
      "source": [],
      "metadata": {
        "id": "IOC-9M-Q9n2p"
      }
    },
    {
      "cell_type": "markdown",
      "source": [
        "## Compound Interest problem"
      ],
      "metadata": {
        "id": "ihYYrvMwBDSo"
      }
    },
    {
      "cell_type": "code",
      "source": [
        "def compound_interest(principal, rate, time):\n",
        "  \"\"\"\n",
        "  Args:\n",
        "    principal (float): The princial amount\n",
        "    rate (float): The interest rate\n",
        "    time (int): The time period\n",
        "\n",
        "  Returns:\n",
        "     amount(float): The final amount\n",
        "     compound_interest(float): The interest\n",
        "\"\"\"\n",
        "  amount = principal * ((1 + rate / 100)**time)\n",
        "  compound_interest = amount - principal\n",
        "  return round(compound_interest,2), round(amount,2)\n",
        "\n",
        "\"\"\"\n",
        "Example usage\n",
        "principal = 1000\n",
        "rate = 10\n",
        "time = 2\n",
        "compound_interest_calculated, final_amount = compound_interest(principal, rate, time)\n",
        "print(f\"The compound interest is: {compound_interest_calculated}\")\n",
        "print(f\"The amount is: {final_amount}\")\n",
        "\"\"\"\n",
        "compound_interest_earned, total_amount = compound_interest(2000, 20, 2)\n",
        "\n",
        "print(f'{compound_interest_earned}, {total_amount}')\n",
        "\n"
      ],
      "metadata": {
        "colab": {
          "base_uri": "https://localhost:8080/"
        },
        "id": "10uvJWo3ozRC",
        "outputId": "13d54ae0-1988-49a2-e15a-21be5d877c31"
      },
      "execution_count": null,
      "outputs": [
        {
          "output_type": "stream",
          "name": "stdout",
          "text": [
            "880.0, 2880.0\n"
          ]
        }
      ]
    },
    {
      "cell_type": "markdown",
      "source": [
        "## Factorial problem"
      ],
      "metadata": {
        "id": "fn5mdD997K9t"
      }
    },
    {
      "cell_type": "code",
      "source": [
        "def calc_factorial(n):\n",
        "  \"\"\"\n",
        "   Args:\n",
        "       n(int32):Factorial of number n\n",
        "   Returns:\n",
        "       int32: Factorial of non-negative integer\n",
        "  \"\"\"\n",
        "  factorial = 1\n",
        "\n",
        "  for i in range (1, n+1):\n",
        "    factorial *= i\n",
        "\n",
        "  return factorial\n",
        "\n",
        "print(calc_factorial(9))"
      ],
      "metadata": {
        "colab": {
          "base_uri": "https://localhost:8080/"
        },
        "id": "NPm4DvU-7N2o",
        "outputId": "27beef3a-d6a0-49bd-a50c-5c5e7e376bc3"
      },
      "execution_count": null,
      "outputs": [
        {
          "output_type": "stream",
          "name": "stdout",
          "text": [
            "362880\n"
          ]
        }
      ]
    },
    {
      "cell_type": "markdown",
      "source": [
        "## Reverse Digit"
      ],
      "metadata": {
        "id": "3QjSugAi_o3s"
      }
    },
    {
      "cell_type": "code",
      "source": [
        "## Reverse digit\n",
        "\n",
        "def reversed_number(n):\n",
        "\n",
        "  if n<0:\n",
        "    sign = -1\n",
        "  else:\n",
        "    sign = 1\n",
        "\n",
        "  reversed_str = str(abs(n))[::-1]\n",
        "  reversed_num = int(reversed_str) * sign\n",
        "\n",
        "  return reversed_num\n",
        "\n",
        "print(reversed_number(-23))"
      ],
      "metadata": {
        "colab": {
          "base_uri": "https://localhost:8080/"
        },
        "id": "sgx4LbDi_oYz",
        "outputId": "30694192-d31f-4751-bb44-9698e7b3cabd"
      },
      "execution_count": null,
      "outputs": [
        {
          "output_type": "stream",
          "name": "stdout",
          "text": [
            "-32\n"
          ]
        }
      ]
    },
    {
      "cell_type": "markdown",
      "source": [
        "## Senior Citizen\n",
        "You are given a 0-indexed array of strings p, containing information about a given passenger consists of their phone number (first 10 characters), gender (11th character), age (12th and 13th characters), and seat assignment (last two characters).\n",
        "\n",
        "Return the number of passengers who are strictly more than 60 years old."
      ],
      "metadata": {
        "id": "lKXlLfAaKbKJ"
      }
    },
    {
      "cell_type": "code",
      "source": [
        "def senior_passenger(str):\n",
        "\n",
        "  count = 0\n",
        "  for passenger in str:\n",
        "    age = passenger [11:13]\n",
        "\n",
        "    if int(age) > 60:\n",
        "      count += 1\n",
        "  return count\n",
        "\n",
        "str = [\"7823190130M7511\", \"6868346633F3422\", \"9921362780M5644\", \"9954362340M6707\"]\n",
        "\n",
        "print(senior_passenger(str))"
      ],
      "metadata": {
        "colab": {
          "base_uri": "https://localhost:8080/"
        },
        "id": "5ASvtmEcLO4l",
        "outputId": "1f82f607-8772-4719-e69e-1f1dafcd9d24"
      },
      "execution_count": null,
      "outputs": [
        {
          "output_type": "stream",
          "name": "stdout",
          "text": [
            "2\n"
          ]
        }
      ]
    },
    {
      "cell_type": "markdown",
      "source": [
        "##Divisible By K\n",
        "Given a list of lists t containing integers, and a positive integer k, the task is to return a new list of lists containing only those sublists in which every element is divisible by k. The order of sublists in the resulting list should be the same as their original order in the input list.\n",
        "\n"
      ],
      "metadata": {
        "id": "RTR7eo7VVTMD"
      }
    },
    {
      "cell_type": "code",
      "source": [
        "def multi_list(list,n):\n",
        "  new_list = []\n",
        "  for list in multi_list:\n",
        "    for n in list:\n",
        "      if n%k == 0:\n",
        "        new_list.append(n)\n",
        "  return new_list\n",
        "\n",
        "  k=2\n",
        "  multi_list = ([1,2,3],[4,5,6],[7,8,9])\n",
        "\n",
        "print({new_list})"
      ],
      "metadata": {
        "id": "HTIdUpQUWKSs"
      },
      "execution_count": null,
      "outputs": []
    },
    {
      "cell_type": "code",
      "source": [
        "def multi_list(list,k):\n",
        "  new_list = []\n",
        "  for sublist in list:\n",
        "     for n in sublist:\n",
        "        if n%k == 0:\n",
        "          new_list.append(n)\n",
        "     return new_list\n",
        "\n",
        "print([new_list])\n",
        "\n",
        "print([[1,2,3],[4,5,6],[7,8,9]],2)\n"
      ],
      "metadata": {
        "colab": {
          "base_uri": "https://localhost:8080/"
        },
        "id": "TbEEn2-QtC2d",
        "outputId": "c082f6a1-2cd8-4110-de81-aa9cf4ecb26c"
      },
      "execution_count": null,
      "outputs": [
        {
          "output_type": "stream",
          "name": "stdout",
          "text": [
            "[[1, 2, 3], [4, 5, 6], [7, 8, 9]] 2\n"
          ]
        }
      ]
    },
    {
      "cell_type": "markdown",
      "source": [],
      "metadata": {
        "id": "4GPJzGVZTBuJ"
      }
    }
  ]
}