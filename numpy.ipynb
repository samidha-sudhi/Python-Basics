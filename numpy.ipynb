{
  "nbformat": 4,
  "nbformat_minor": 0,
  "metadata": {
    "colab": {
      "provenance": [],
      "toc_visible": true,
      "authorship_tag": "ABX9TyOR4K0bE5VqB4pZ3ZwlbAY0",
      "include_colab_link": true
    },
    "kernelspec": {
      "name": "python3",
      "display_name": "Python 3"
    },
    "language_info": {
      "name": "python"
    }
  },
  "cells": [
    {
      "cell_type": "markdown",
      "metadata": {
        "id": "view-in-github",
        "colab_type": "text"
      },
      "source": [
        "<a href=\"https://colab.research.google.com/github/samidha-sudhi/Python-Basics/blob/main/numpy.ipynb\" target=\"_parent\"><img src=\"https://colab.research.google.com/assets/colab-badge.svg\" alt=\"Open In Colab\"/></a>"
      ]
    },
    {
      "cell_type": "markdown",
      "source": [
        "#NumPy"
      ],
      "metadata": {
        "id": "TygsHBy70iCE"
      }
    },
    {
      "cell_type": "code",
      "execution_count": null,
      "metadata": {
        "colab": {
          "base_uri": "https://localhost:8080/"
        },
        "id": "VXpxGiCW0fS0",
        "outputId": "a04acdbc-48ad-4642-9ede-d25dfba62a58"
      },
      "outputs": [
        {
          "output_type": "stream",
          "name": "stdout",
          "text": [
            "[1 2 3 4 5]\n"
          ]
        }
      ],
      "source": [
        "import numpy as np\n",
        "array_1 = np.array([1,2,3,4,5])\n",
        "print(array_1)"
      ]
    },
    {
      "cell_type": "code",
      "source": [
        "# Properties associated with Numpy array\n",
        "print(\"Array 1, NDim\", array_1.ndim)\n",
        "print(\"Array 1, Shape\", array_1.shape)\n",
        "print(\"Array 1, Size\", array_1.size)\n",
        "print(\"Array 1, Data type\", array_1.dtype)\n"
      ],
      "metadata": {
        "colab": {
          "base_uri": "https://localhost:8080/"
        },
        "id": "N9jz5gAT6E6o",
        "outputId": "850f4706-193c-43f9-a64b-462bd6454a16"
      },
      "execution_count": null,
      "outputs": [
        {
          "output_type": "stream",
          "name": "stdout",
          "text": [
            "Array 1, NDim 1\n",
            "Array 1, Shape (5,)\n",
            "Array 1, Size 5\n",
            "Array 1, Data type int64\n"
          ]
        }
      ]
    },
    {
      "cell_type": "code",
      "source": [
        "# Two dimentional array\n",
        "array_2 = np.array([[1,2,3,4,5],[6,7,8,9,10]])\n",
        "print(array_2)\n",
        "print(\"Array_2, NDim\",array_2.ndim)\n",
        "print(\"Array_2, Size\",array_2.size)\n",
        "print(\"Array_2, Shape\",array_2.shape)\n",
        "print(\"Array_2, Data Type\",array_2.dtype)"
      ],
      "metadata": {
        "colab": {
          "base_uri": "https://localhost:8080/"
        },
        "id": "ka1qE3B-80of",
        "outputId": "5a24ad59-068d-4c4f-f6b9-abd8d385546f"
      },
      "execution_count": null,
      "outputs": [
        {
          "output_type": "stream",
          "name": "stdout",
          "text": [
            "[[ 1  2  3  4  5]\n",
            " [ 6  7  8  9 10]]\n",
            "Array_2, NDim 2\n",
            "Array_2, Size 10\n",
            "Array_2, Shape (2, 5)\n",
            "Array_2, Data Type int64\n"
          ]
        }
      ]
    },
    {
      "cell_type": "code",
      "source": [
        "# Three dimentional array\n",
        "array_3 = np.array([[1,2,3,4,5],[6,7,8,9,10], [11,12,13,14,15]])\n",
        "print(array_3)\n",
        "print(\"Array_3, NDim\",array_3.ndim)\n",
        "print(\"Array_3, Size\",array_3.size)\n",
        "print(\"Array_3, Shape\",array_3.shape)\n",
        "print(\"Array_3, Data Type\",array_3.dtype)\n",
        "print(\"Array_3, Reshape\", array_3.reshape(5,3))"
      ],
      "metadata": {
        "colab": {
          "base_uri": "https://localhost:8080/"
        },
        "id": "WJxFhrQ_-0Zd",
        "outputId": "555a35fe-e35e-4254-ab61-9bddbb478bfe"
      },
      "execution_count": null,
      "outputs": [
        {
          "output_type": "stream",
          "name": "stdout",
          "text": [
            "[[ 1  2  3  4  5]\n",
            " [ 6  7  8  9 10]\n",
            " [11 12 13 14 15]]\n",
            "Array_3, NDim 2\n",
            "Array_3, Size 15\n",
            "Array_3, Shape (3, 5)\n",
            "Array_3, Data Type int64\n",
            "Array_3, Reshape [[ 1  2  3]\n",
            " [ 4  5  6]\n",
            " [ 7  8  9]\n",
            " [10 11 12]\n",
            " [13 14 15]]\n"
          ]
        }
      ]
    },
    {
      "cell_type": "code",
      "source": [
        "# Indexing and Slicing Numpy\n",
        "data = np.array([1,2,3])\n",
        "data"
      ],
      "metadata": {
        "colab": {
          "base_uri": "https://localhost:8080/"
        },
        "id": "dVxWOdheAiRN",
        "outputId": "e8c6b770-caca-4d06-c34c-f208dec40981"
      },
      "execution_count": null,
      "outputs": [
        {
          "output_type": "execute_result",
          "data": {
            "text/plain": [
              "array([1, 2, 3])"
            ]
          },
          "metadata": {},
          "execution_count": 21
        }
      ]
    },
    {
      "cell_type": "code",
      "source": [
        "data[2]"
      ],
      "metadata": {
        "colab": {
          "base_uri": "https://localhost:8080/"
        },
        "id": "xIIKJzPLGjmg",
        "outputId": "d4702bdd-1b3d-4975-9f7c-6b414e269a7a"
      },
      "execution_count": null,
      "outputs": [
        {
          "output_type": "execute_result",
          "data": {
            "text/plain": [
              "np.int64(3)"
            ]
          },
          "metadata": {},
          "execution_count": 33
        }
      ]
    },
    {
      "cell_type": "code",
      "source": [
        "data[0:2]"
      ],
      "metadata": {
        "colab": {
          "base_uri": "https://localhost:8080/"
        },
        "id": "4fJ8zLNSHPoH",
        "outputId": "3a3acba7-537e-4437-d9db-1c9cfc3750ca"
      },
      "execution_count": null,
      "outputs": [
        {
          "output_type": "execute_result",
          "data": {
            "text/plain": [
              "array([1, 2])"
            ]
          },
          "metadata": {},
          "execution_count": 32
        }
      ]
    },
    {
      "cell_type": "markdown",
      "source": [
        "## Methods to create an array fast"
      ],
      "metadata": {
        "id": "9cpbsf1QHTn7"
      }
    },
    {
      "cell_type": "code",
      "source": [
        "np.zeros(10, dtype=np.int64)"
      ],
      "metadata": {
        "colab": {
          "base_uri": "https://localhost:8080/"
        },
        "id": "A06CFwMMK-l7",
        "outputId": "ff80ecef-e745-485b-c8e8-8da0819926ea"
      },
      "execution_count": null,
      "outputs": [
        {
          "output_type": "execute_result",
          "data": {
            "text/plain": [
              "array([0, 0, 0, 0, 0, 0, 0, 0, 0, 0])"
            ]
          },
          "metadata": {},
          "execution_count": 34
        }
      ]
    },
    {
      "cell_type": "code",
      "source": [
        "np.ones(5, dtype=np.int64)"
      ],
      "metadata": {
        "colab": {
          "base_uri": "https://localhost:8080/"
        },
        "id": "_LmNKCS8LSNV",
        "outputId": "06b03da8-7816-4644-8551-d61d002ea51d"
      },
      "execution_count": null,
      "outputs": [
        {
          "output_type": "execute_result",
          "data": {
            "text/plain": [
              "array([1, 1, 1, 1, 1])"
            ]
          },
          "metadata": {},
          "execution_count": 36
        }
      ]
    },
    {
      "cell_type": "code",
      "source": [
        "np.arange(2,20,2)"
      ],
      "metadata": {
        "colab": {
          "base_uri": "https://localhost:8080/"
        },
        "id": "sc35w7OPLhYu",
        "outputId": "7f7c78f2-da8e-4466-f1b4-4386e95410f3"
      },
      "execution_count": null,
      "outputs": [
        {
          "output_type": "execute_result",
          "data": {
            "text/plain": [
              "array([ 2,  4,  6,  8, 10, 12, 14, 16, 18])"
            ]
          },
          "metadata": {},
          "execution_count": 39
        }
      ]
    },
    {
      "cell_type": "code",
      "source": [
        "np.linspace(0,10,num=5)"
      ],
      "metadata": {
        "colab": {
          "base_uri": "https://localhost:8080/"
        },
        "id": "z_-OmUK4MGig",
        "outputId": "a080bd3a-8e5f-41e0-9dda-5fbacccef70a"
      },
      "execution_count": null,
      "outputs": [
        {
          "output_type": "execute_result",
          "data": {
            "text/plain": [
              "array([ 0. ,  2.5,  5. ,  7.5, 10. ])"
            ]
          },
          "metadata": {},
          "execution_count": 40
        }
      ]
    },
    {
      "cell_type": "code",
      "source": [
        "# Adding and sorting elements in a numpy array\n",
        "array_4 = np.array([2,1,8,3,2,10,9,4])\n",
        "np.sort(array_4)"
      ],
      "metadata": {
        "colab": {
          "base_uri": "https://localhost:8080/"
        },
        "id": "-tyl_tkZMgru",
        "outputId": "0d3d779f-e190-4734-cfaf-fcce48ec41c6"
      },
      "execution_count": null,
      "outputs": [
        {
          "output_type": "execute_result",
          "data": {
            "text/plain": [
              "array([ 1,  2,  2,  3,  4,  8,  9, 10])"
            ]
          },
          "metadata": {},
          "execution_count": 42
        }
      ]
    },
    {
      "cell_type": "code",
      "source": [
        "# Arrays can be concatenated\n",
        "a5 = np.array([[1,2],[3,4]])\n",
        "a6 = np.array([[5,6]])\n",
        "a7 = np.concatenate((a5,a6), axis=0)\n",
        "print(a7)\n",
        "print('----')\n"
      ],
      "metadata": {
        "colab": {
          "base_uri": "https://localhost:8080/"
        },
        "id": "gkPCZNSKOS13",
        "outputId": "9c8ca326-0621-45de-f08a-fdffa40181e9"
      },
      "execution_count": null,
      "outputs": [
        {
          "output_type": "stream",
          "name": "stdout",
          "text": [
            "[[1 2]\n",
            " [3 4]\n",
            " [5 6]]\n",
            "----\n"
          ]
        }
      ]
    },
    {
      "cell_type": "code",
      "source": [
        "a = np.array([[1, 2], [3, 4]])\n",
        "b = np.array([[5, 6]])\n",
        "\n",
        "# Concatenate along axis 0 (rows)\n",
        "c = np.concatenate((a, b), axis=0)\n",
        "print(\"Concatenated along axis 0:\\n\", c)"
      ],
      "metadata": {
        "colab": {
          "base_uri": "https://localhost:8080/"
        },
        "id": "nGOb4h49RGY7",
        "outputId": "91a304c9-9771-4f1f-d500-3e6863bfa849"
      },
      "execution_count": null,
      "outputs": [
        {
          "output_type": "stream",
          "name": "stdout",
          "text": [
            "Concatenated along axis 0:\n",
            " [[1 2]\n",
            " [3 4]\n",
            " [5 6]]\n"
          ]
        }
      ]
    },
    {
      "cell_type": "code",
      "source": [
        "#Array operations\n",
        "import numpy as np\n",
        "\n",
        "array1=np.array([1,2])\n",
        "array2=np.array([2,3])\n",
        "array3=np.ones(2,dtype=int)\n",
        "array4=np.arange(2,20,2)\n",
        "array5=3.14*array4\n",
        "\n",
        "print(array1,array2,array3)\n",
        "print(array4)\n",
        "print(f'addition={array1+array2}')\n",
        "print(f'substraction={array2-array3}')\n",
        "print(f'multiplication={array1*array3}')\n",
        "print(f'division={array2/array1}')\n",
        "print(f'array4 addition={array4.sum()}')\n",
        "print(f'array4 min= {array4.min()}')\n",
        "print(f'array4_max = {array4.max()}')\n",
        "print(f'array4_mean ={array4.mean()}')\n",
        "print(f'array5 = {array5}')\n",
        "print(f'array5 > 20 = {array5>20}')\n",
        "print(f'{(array5>20) & (array5<40)}')\n",
        "print(f'{array5[(array5>20) & (array5<40)]}')\n",
        "#print(f'{(20<{array5}<40)}')"
      ],
      "metadata": {
        "colab": {
          "base_uri": "https://localhost:8080/"
        },
        "id": "8ew69r1dzzG-",
        "outputId": "86e11893-3e55-4b7a-cf12-e6d4ff2bb778"
      },
      "execution_count": null,
      "outputs": [
        {
          "output_type": "stream",
          "name": "stdout",
          "text": [
            "[1 2] [2 3] [1 1]\n",
            "[ 2  4  6  8 10 12 14 16 18]\n",
            "addition=[3 5]\n",
            "substraction=[1 2]\n",
            "multiplication=[1 2]\n",
            "division=[2.  1.5]\n",
            "array4 addition=90\n",
            "array4 min= 2\n",
            "array4_max = 18\n",
            "array4_mean =10.0\n",
            "array5 = [ 6.28 12.56 18.84 25.12 31.4  37.68 43.96 50.24 56.52]\n",
            "array5 > 20 = [False False False  True  True  True  True  True  True]\n",
            "[False False False  True  True  True False False False]\n",
            "[25.12 31.4  37.68]\n"
          ]
        }
      ]
    },
    {
      "cell_type": "code",
      "source": [
        "# save array in file\n",
        "array6=np.array([1,2,3,4,5,6,7,8])\n",
        "np.save('sixth_array', array6)\n",
        "! ls\n",
        "np.load('sixth_array.npy')\n",
        "np.savetxt('sixth_array_csv.csv', array6)\n",
        "! ls\n",
        "! cat sixth_array_csv.csv\n",
        "array7=np.loadtxt('sixth_array_csv.csv')\n",
        "array7"
      ],
      "metadata": {
        "colab": {
          "base_uri": "https://localhost:8080/"
        },
        "id": "6nlNcGXeNvpB",
        "outputId": "b34a725c-5930-44bc-a488-f1d64c136566"
      },
      "execution_count": null,
      "outputs": [
        {
          "output_type": "stream",
          "name": "stdout",
          "text": [
            "sample_data  sixth_array_csv.csv  sixth_array.npy\n",
            "sample_data  sixth_array_csv.csv  sixth_array.npy\n",
            "1.000000000000000000e+00\n",
            "2.000000000000000000e+00\n",
            "3.000000000000000000e+00\n",
            "4.000000000000000000e+00\n",
            "5.000000000000000000e+00\n",
            "6.000000000000000000e+00\n",
            "7.000000000000000000e+00\n",
            "8.000000000000000000e+00\n"
          ]
        },
        {
          "output_type": "execute_result",
          "data": {
            "text/plain": [
              "array([1., 2., 3., 4., 5., 6., 7., 8.])"
            ]
          },
          "metadata": {},
          "execution_count": 55
        }
      ]
    },
    {
      "cell_type": "markdown",
      "source": [
        "# File Handling in Python\n",
        "\n",
        "*   read()\n",
        "\n"
      ],
      "metadata": {
        "id": "0_ZQaoN4vtJm"
      }
    },
    {
      "cell_type": "code",
      "source": [
        "#file = open(\"/sample_data/test1.txt\", \"r\")\n",
        "#content = file.read()\n",
        "\n",
        "with open ('/content/sample_data/test1.txt' 'r') as f:\n",
        "    file_content = f.read()\n",
        "print(file_content)"
      ],
      "metadata": {
        "colab": {
          "base_uri": "https://localhost:8080/",
          "height": 233
        },
        "id": "uKu74jorv4wr",
        "outputId": "07a1f668-9eb3-470e-ab2b-106a6fdee003"
      },
      "execution_count": null,
      "outputs": [
        {
          "output_type": "error",
          "ename": "FileNotFoundError",
          "evalue": "[Errno 2] No such file or directory: '/content/sample_data/test1.txtr'",
          "traceback": [
            "\u001b[0;31m---------------------------------------------------------------------------\u001b[0m",
            "\u001b[0;31mFileNotFoundError\u001b[0m                         Traceback (most recent call last)",
            "\u001b[0;32m<ipython-input-7-2234707385>\u001b[0m in \u001b[0;36m<cell line: 0>\u001b[0;34m()\u001b[0m\n\u001b[1;32m      2\u001b[0m \u001b[0;31m#content = file.read()\u001b[0m\u001b[0;34m\u001b[0m\u001b[0;34m\u001b[0m\u001b[0m\n\u001b[1;32m      3\u001b[0m \u001b[0;34m\u001b[0m\u001b[0m\n\u001b[0;32m----> 4\u001b[0;31m \u001b[0;32mwith\u001b[0m \u001b[0mopen\u001b[0m \u001b[0;34m(\u001b[0m\u001b[0;34m'/content/sample_data/test1.txt'\u001b[0m \u001b[0;34m'r'\u001b[0m\u001b[0;34m)\u001b[0m \u001b[0;32mas\u001b[0m \u001b[0mf\u001b[0m\u001b[0;34m:\u001b[0m\u001b[0;34m\u001b[0m\u001b[0;34m\u001b[0m\u001b[0m\n\u001b[0m\u001b[1;32m      5\u001b[0m     \u001b[0mfile_content\u001b[0m \u001b[0;34m=\u001b[0m \u001b[0mf\u001b[0m\u001b[0;34m.\u001b[0m\u001b[0mread\u001b[0m\u001b[0;34m(\u001b[0m\u001b[0;34m)\u001b[0m\u001b[0;34m\u001b[0m\u001b[0;34m\u001b[0m\u001b[0m\n\u001b[1;32m      6\u001b[0m \u001b[0mprint\u001b[0m\u001b[0;34m(\u001b[0m\u001b[0mfile_content\u001b[0m\u001b[0;34m)\u001b[0m\u001b[0;34m\u001b[0m\u001b[0;34m\u001b[0m\u001b[0m\n",
            "\u001b[0;31mFileNotFoundError\u001b[0m: [Errno 2] No such file or directory: '/content/sample_data/test1.txtr'"
          ]
        }
      ]
    },
    {
      "cell_type": "markdown",
      "source": [
        "# Python Modules\n",
        "\n",
        "## Math Module"
      ],
      "metadata": {
        "id": "ILMq1jFeFpV3"
      }
    },
    {
      "cell_type": "code",
      "source": [
        "import math\n",
        "print(math.sqrt(16))\n",
        "print(math.factorial(5))\n",
        "print(math.sin(math.pi))\n",
        "print(math.cos(math.pi))\n",
        "print(math.ceil(-3.8))\n",
        "print(math.floor(-2.3))\n",
        "print(math.exp(2))\n",
        "print(math.log(10))"
      ],
      "metadata": {
        "colab": {
          "base_uri": "https://localhost:8080/"
        },
        "id": "C3nu2hXtFsHT",
        "outputId": "66707707-a73e-4fd0-97a0-249df0cc0bb9"
      },
      "execution_count": null,
      "outputs": [
        {
          "output_type": "stream",
          "name": "stdout",
          "text": [
            "4.0\n",
            "120\n",
            "1.2246467991473532e-16\n",
            "-1.0\n",
            "-3\n",
            "-3\n",
            "7.38905609893065\n",
            "2.302585092994046\n"
          ]
        }
      ]
    },
    {
      "cell_type": "markdown",
      "source": [
        "## Random Module"
      ],
      "metadata": {
        "id": "hWF9AFHVOMg_"
      }
    },
    {
      "cell_type": "code",
      "source": [
        "import random\n",
        "print(random.randint(1,5))\n",
        "print(random.random())\n",
        "print(random.choice([1,2,4,6,8]))\n",
        "items = ['a','b','c','d']\n",
        "print(random.shuffle(items))"
      ],
      "metadata": {
        "colab": {
          "base_uri": "https://localhost:8080/"
        },
        "id": "ITIypMP8ORDA",
        "outputId": "9b3622d1-7406-4934-b79d-c082b90c7804"
      },
      "execution_count": null,
      "outputs": [
        {
          "output_type": "stream",
          "name": "stdout",
          "text": [
            "1\n",
            "0.0871548721015325\n",
            "1\n",
            "None\n"
          ]
        }
      ]
    },
    {
      "cell_type": "markdown",
      "source": [
        "## Datetime Module"
      ],
      "metadata": {
        "id": "YacUpkL4Qoyx"
      }
    },
    {
      "cell_type": "code",
      "source": [
        "import datetime\n",
        "print(datetime.datetime.now())\n",
        "print(datetime.date.today())\n",
        "date1 = datetime.date(25,4,10)\n",
        "date2 = datetime.date(25,6,3)\n",
        "print((date2-date1).days)"
      ],
      "metadata": {
        "colab": {
          "base_uri": "https://localhost:8080/"
        },
        "id": "jlwiL2WqQsfG",
        "outputId": "92fe658d-0132-4924-e646-60910e5b854c"
      },
      "execution_count": null,
      "outputs": [
        {
          "output_type": "stream",
          "name": "stdout",
          "text": [
            "2025-06-14 21:10:30.735948\n",
            "2025-06-14\n",
            "54\n"
          ]
        }
      ]
    },
    {
      "cell_type": "markdown",
      "source": [
        "## User Defined Modules"
      ],
      "metadata": {
        "id": "v-bncTpvSCl8"
      }
    },
    {
      "cell_type": "markdown",
      "source": [
        "# Functions in Python\n",
        "\n",
        "## Lambda Functions"
      ],
      "metadata": {
        "id": "HLOUBIlsrE7O"
      }
    },
    {
      "cell_type": "code",
      "source": [
        "#lambda arguments: expressions\n",
        "# simple addition\n",
        "def add(x,y):\n",
        "  return x+y\n",
        "print(add(5,3))\n",
        "\n",
        "#lambda function\n",
        "add = lambda x,y: x+y\n",
        "print(add(5,3))"
      ],
      "metadata": {
        "colab": {
          "base_uri": "https://localhost:8080/"
        },
        "id": "1E2i9ymlrOKT",
        "outputId": "c9984bbd-9547-4a13-d765-b5cc939b9a8f"
      },
      "execution_count": null,
      "outputs": [
        {
          "output_type": "stream",
          "name": "stdout",
          "text": [
            "8\n",
            "8\n"
          ]
        }
      ]
    },
    {
      "cell_type": "code",
      "source": [
        "# Define lambda function to square a number\n",
        "square = lambda x: x**2\n",
        "print(square(5))"
      ],
      "metadata": {
        "colab": {
          "base_uri": "https://localhost:8080/"
        },
        "id": "eAl7VkaSrSDv",
        "outputId": "612ceb75-3a80-4585-d9c1-aac6bf805ed5"
      },
      "execution_count": null,
      "outputs": [
        {
          "output_type": "stream",
          "name": "stdout",
          "text": [
            "25\n"
          ]
        }
      ]
    },
    {
      "cell_type": "code",
      "source": [
        "# Sorting a list of Tuples\n",
        "pairs = [(1,'one'), (3,'three'), (4,'four'), (2,'two')]\n",
        "pairs.sort(key= lambda x:x[0])\n",
        "print(pairs)"
      ],
      "metadata": {
        "colab": {
          "base_uri": "https://localhost:8080/"
        },
        "id": "kXGLg8QSsqha",
        "outputId": "fecbed22-170c-4e03-fbf3-f6626afd5986"
      },
      "execution_count": null,
      "outputs": [
        {
          "output_type": "stream",
          "name": "stdout",
          "text": [
            "[(1, 'one'), (2, 'two'), (3, 'three'), (4, 'four')]\n"
          ]
        }
      ]
    },
    {
      "cell_type": "markdown",
      "source": [
        "## Map Function\n",
        "### map() Function\n",
        "\n",
        "Syntax:map(function, iterable)"
      ],
      "metadata": {
        "id": "SJtYfisfuFnJ"
      }
    },
    {
      "cell_type": "code",
      "source": [
        "# Squaring number in a list\n",
        "# Define a list of numbers\n",
        "numbers = [1,2,3,4,5]\n",
        "\n",
        "# Use map to square each number in the list\n",
        "squared_numbers = map(lambda x: x**2, numbers)\n",
        "print(list(squared_numbers))"
      ],
      "metadata": {
        "colab": {
          "base_uri": "https://localhost:8080/"
        },
        "id": "Dn9gRb8BuPYU",
        "outputId": "f2c9beb1-c279-42ea-ff5a-08ebfc42adcc"
      },
      "execution_count": null,
      "outputs": [
        {
          "output_type": "stream",
          "name": "stdout",
          "text": [
            "[1, 4, 9, 16, 25]\n"
          ]
        }
      ]
    },
    {
      "cell_type": "code",
      "source": [
        "# Converting Fahrenheit to Celsius\n",
        "# Define a list of temperatures in Fahrenheit\n",
        "# Rounding to 2 decimal digits\n",
        "F_temp = [20, 32,70,90,110,64,55]\n",
        "\n",
        "C_temp = map(lambda f: round((f-32)*5/9,2), F_temp)\n",
        "\n",
        "print(list(C_temp))"
      ],
      "metadata": {
        "colab": {
          "base_uri": "https://localhost:8080/"
        },
        "id": "mDy-06zAwS7_",
        "outputId": "a696c08a-53b7-48f2-9f8c-1310ea0afa0a"
      },
      "execution_count": null,
      "outputs": [
        {
          "output_type": "stream",
          "name": "stdout",
          "text": [
            "[-6.67, 0.0, 21.11, 32.22, 43.33, 17.78, 12.78]\n"
          ]
        }
      ]
    },
    {
      "cell_type": "code",
      "source": [
        "# Capitalize string using map function\n",
        "strings = ['apple', 'banana', 'orange', 'grapes']\n",
        "capatalized_strings = map(str.capitalize, strings)\n",
        "print(list(capatalized_strings))\n"
      ],
      "metadata": {
        "colab": {
          "base_uri": "https://localhost:8080/",
          "height": 198
        },
        "id": "A3eDVmvK04eX",
        "outputId": "7eeb85ac-0c29-470b-fcc4-828773d51a99"
      },
      "execution_count": null,
      "outputs": [
        {
          "output_type": "stream",
          "name": "stdout",
          "text": [
            "['Apple', 'Banana', 'Orange', 'Grapes']\n"
          ]
        },
        {
          "output_type": "error",
          "ename": "TypeError",
          "evalue": "count() takes at least 1 argument (0 given)",
          "traceback": [
            "\u001b[0;31m---------------------------------------------------------------------------\u001b[0m",
            "\u001b[0;31mTypeError\u001b[0m                                 Traceback (most recent call last)",
            "\u001b[0;32m<ipython-input-5-1084794854>\u001b[0m in \u001b[0;36m<cell line: 0>\u001b[0;34m()\u001b[0m\n\u001b[1;32m      5\u001b[0m \u001b[0;34m\u001b[0m\u001b[0m\n\u001b[1;32m      6\u001b[0m \u001b[0mlength_strings\u001b[0m \u001b[0;34m=\u001b[0m \u001b[0mmap\u001b[0m\u001b[0;34m(\u001b[0m\u001b[0mstr\u001b[0m\u001b[0;34m.\u001b[0m\u001b[0mcount\u001b[0m\u001b[0;34m,\u001b[0m\u001b[0mstrings\u001b[0m\u001b[0;34m)\u001b[0m\u001b[0;34m\u001b[0m\u001b[0;34m\u001b[0m\u001b[0m\n\u001b[0;32m----> 7\u001b[0;31m \u001b[0mprint\u001b[0m\u001b[0;34m(\u001b[0m\u001b[0mlist\u001b[0m\u001b[0;34m(\u001b[0m\u001b[0mlength_strings\u001b[0m\u001b[0;34m)\u001b[0m\u001b[0;34m)\u001b[0m\u001b[0;34m\u001b[0m\u001b[0;34m\u001b[0m\u001b[0m\n\u001b[0m",
            "\u001b[0;31mTypeError\u001b[0m: count() takes at least 1 argument (0 given)"
          ]
        }
      ]
    },
    {
      "cell_type": "code",
      "source": [
        "# Find length of strings in a list\n",
        "strings = ['apple', 'banana', 'orange', 'grapes']\n",
        "\n",
        "#length_strings = map(len, strings) # Method 1\n",
        "\n",
        "length_strings = map(lambda x: len(x), strings) # Method 2\n",
        "\n",
        "print(list(length_strings))"
      ],
      "metadata": {
        "colab": {
          "base_uri": "https://localhost:8080/"
        },
        "id": "kM2w0uh1WvJL",
        "outputId": "faad8237-e17b-4ebe-953a-7bc4f94ff777"
      },
      "execution_count": null,
      "outputs": [
        {
          "output_type": "stream",
          "name": "stdout",
          "text": [
            "[5, 6, 6, 6]\n"
          ]
        }
      ]
    },
    {
      "cell_type": "markdown",
      "source": [
        "## Mapping with multiple iterables"
      ],
      "metadata": {
        "id": "LFOqT58rYO4z"
      }
    },
    {
      "cell_type": "code",
      "source": [
        "# Define two lists of numbers\n",
        "numbers1 = [1,2,3]\n",
        "numbers2 = [4,5,6]\n",
        "\n",
        "# Use map() to add corresponding elements of both lists\n",
        "sums = map(lambda x, y: x+y, numbers1, numbers2)\n",
        "\n",
        "#Convert the map object to a list\n",
        "sums_list = list(sums)\n",
        "\n",
        "print(sums_list)"
      ],
      "metadata": {
        "colab": {
          "base_uri": "https://localhost:8080/"
        },
        "id": "QpwZZPefYWco",
        "outputId": "294a451d-e189-44eb-d07d-efeed5116a27"
      },
      "execution_count": null,
      "outputs": [
        {
          "output_type": "stream",
          "name": "stdout",
          "text": [
            "[5, 7, 9]\n"
          ]
        }
      ]
    },
    {
      "cell_type": "markdown",
      "source": [
        "##Filter function\n",
        "###filter ()"
      ],
      "metadata": {
        "id": "ow-PCUQKmQ3d"
      }
    },
    {
      "cell_type": "code",
      "source": [
        "#Filter even numbers\n",
        "#Define a list of numbers\n",
        "numbers = [1,2,3,4,5,6,7,8,9]\n",
        "\n",
        "#Use filter() to keep only even numbers\n",
        "even_numbers = filter(lambda x:x%2 ==0, numbers)\n",
        "\n",
        "print(list(even_numbers))"
      ],
      "metadata": {
        "colab": {
          "base_uri": "https://localhost:8080/"
        },
        "id": "fhACWz45mcuy",
        "outputId": "3342fbb7-0b2e-4fdd-dbb1-959f062811ca"
      },
      "execution_count": null,
      "outputs": [
        {
          "output_type": "stream",
          "name": "stdout",
          "text": [
            "[2, 4, 6, 8]\n"
          ]
        }
      ]
    },
    {
      "cell_type": "code",
      "source": [
        "#Filter greater than 4 chars\n",
        "#Define a list of strings\n",
        "strings = ['apple','banana','grapes','orange','pear', 'kiwi']\n",
        "\n",
        "#Filter strings greater than 4 chars\n",
        "strings_greater4 = filter(lambda x: len(x)>4, strings)\n",
        "\n",
        "print(list(strings_greater4))"
      ],
      "metadata": {
        "colab": {
          "base_uri": "https://localhost:8080/"
        },
        "id": "nSTQVgrtqXhh",
        "outputId": "cdbafcf2-d93e-4a97-8fcf-32da60c051f6"
      },
      "execution_count": null,
      "outputs": [
        {
          "output_type": "stream",
          "name": "stdout",
          "text": [
            "['apple', 'banana', 'grapes', 'orange']\n"
          ]
        }
      ]
    },
    {
      "cell_type": "code",
      "source": [
        "#Filter positive numbers\n",
        "#Define a list of numbers\n",
        "numbers = [-1,2,3,-4,-5,6,7,9]\n",
        "\n",
        "#Filter positive numbers\n",
        "positive_numbers = filter(lambda x: x>0, numbers)\n",
        "\n",
        "print(list(positive_numbers))"
      ],
      "metadata": {
        "colab": {
          "base_uri": "https://localhost:8080/"
        },
        "id": "eItoHjnesT2k",
        "outputId": "b6068ac0-df81-40ba-c432-e6f017fccec0"
      },
      "execution_count": null,
      "outputs": [
        {
          "output_type": "stream",
          "name": "stdout",
          "text": [
            "[2, 3, 6, 7, 9]\n"
          ]
        }
      ]
    },
    {
      "cell_type": "code",
      "source": [
        "#Remove None values from list\n",
        "# Define a list of numbers\n",
        "values = [1,2,None,4,5,None,6,None]\n",
        "\n",
        "#Filter not none values\n",
        "filter_none = filter(lambda x: x is not None, values)\n",
        "\n",
        "print(list(filter_none))"
      ],
      "metadata": {
        "colab": {
          "base_uri": "https://localhost:8080/"
        },
        "id": "tmJWV23otHUL",
        "outputId": "a7357446-f6e6-4468-8c2d-22613e4686d6"
      },
      "execution_count": null,
      "outputs": [
        {
          "output_type": "stream",
          "name": "stdout",
          "text": [
            "[1, 2, 4, 5, 6]\n"
          ]
        }
      ]
    },
    {
      "cell_type": "code",
      "source": [
        "#Define a function to filter strings starting with 'a'\n",
        "strings = ['apple', 'orange', 'kiwi', 'apricot', 'aspharagues']\n",
        "\n",
        "#option 1\n",
        "#strings_with_a = filter(lambda x: x[0]=='a', strings)\n",
        "\n",
        "#option 2 ensuring comparison using lower case\n",
        "#strings_with_a = filter(lambda x: x[0].lower()=='a', strings)\n",
        "\n",
        "#option 3 using startswith function\n",
        "strings_with_a = filter(lambda x: x.startswith('a'), strings)\n",
        "\n",
        "print(list(strings_with_a))"
      ],
      "metadata": {
        "colab": {
          "base_uri": "https://localhost:8080/"
        },
        "id": "QRgEz6b_tzEl",
        "outputId": "35846811-a409-4db7-dd53-b32efcadce07"
      },
      "execution_count": null,
      "outputs": [
        {
          "output_type": "stream",
          "name": "stdout",
          "text": [
            "['apple', 'apricot', 'aspharagues']\n"
          ]
        }
      ]
    },
    {
      "cell_type": "markdown",
      "source": [
        "## Reduce Function\n",
        "\n",
        "### reduce()"
      ],
      "metadata": {
        "id": "k7T3vg0fxaHr"
      }
    },
    {
      "cell_type": "code",
      "source": [
        "# functools.reduce(function, iterable[,initializer])"
      ],
      "metadata": {
        "id": "YA3jOrP0xfO6"
      },
      "execution_count": null,
      "outputs": []
    },
    {
      "cell_type": "code",
      "source": [
        "import functools\n",
        "from functools import reduce"
      ],
      "metadata": {
        "id": "qGjiuzVLyGQs"
      },
      "execution_count": null,
      "outputs": []
    },
    {
      "cell_type": "markdown",
      "source": [
        "### Summing numbers in a list"
      ],
      "metadata": {
        "id": "rIyTfwdhyQrb"
      }
    },
    {
      "cell_type": "code",
      "source": [
        "# Define numbers in a list\n",
        "numbers = [1,2,3,4,5]\n",
        "\n",
        "# Use reduce to calculate sum of numbers\n",
        "sum_of_numbers = functools.reduce(lambda x,y: x+y, numbers)\n",
        "\n",
        "print(sum_of_numbers)"
      ],
      "metadata": {
        "colab": {
          "base_uri": "https://localhost:8080/"
        },
        "id": "JLXI52zYzMJR",
        "outputId": "6a358b97-e510-4140-8cae-743b5e44e212"
      },
      "execution_count": null,
      "outputs": [
        {
          "output_type": "stream",
          "name": "stdout",
          "text": [
            "15\n"
          ]
        }
      ]
    },
    {
      "cell_type": "markdown",
      "source": [
        "## Find the maximum number in a list"
      ],
      "metadata": {
        "id": "_ZTZLe240LJJ"
      }
    },
    {
      "cell_type": "code",
      "source": [
        "# Define numbers in a list\n",
        "numbers = [3,4,5,9,2,7]\n",
        "\n",
        "#Find the maximum number\n",
        "maximum_number = functools.reduce(lambda x,y: x if x>y else y, numbers)\n",
        "\n",
        "print(maximum_number)"
      ],
      "metadata": {
        "colab": {
          "base_uri": "https://localhost:8080/"
        },
        "id": "1d7JXEOEyHQ_",
        "outputId": "50095694-909f-4020-ac6a-4913320dad4e"
      },
      "execution_count": null,
      "outputs": [
        {
          "output_type": "stream",
          "name": "stdout",
          "text": [
            "9\n"
          ]
        }
      ]
    },
    {
      "cell_type": "code",
      "source": [
        "# Concatenating strings in a lit\n",
        "strings = ['hello', 'this', 'is', 'simple', 'function']\n",
        "\n",
        "#Concatenate strings\n",
        "concatenate_strings = reduce(lambda x, y: x+' '+y, strings)\n",
        "\n",
        "print(concatenate_strings)"
      ],
      "metadata": {
        "colab": {
          "base_uri": "https://localhost:8080/"
        },
        "id": "SCsT59T8zM9e",
        "outputId": "4da73848-2de6-4d4e-d930-681670f176d9"
      },
      "execution_count": null,
      "outputs": [
        {
          "output_type": "stream",
          "name": "stdout",
          "text": [
            "hello this is simple function\n"
          ]
        }
      ]
    },
    {
      "cell_type": "code",
      "source": [
        "# Computing factorial for a number\n",
        "#Define a number\n",
        "n =5\n",
        "factorial_n = functools.reduce(lambda n, y: n*y, range(1, (n+1)))\n",
        "factorial_n = mapfunctools.reduce(lambda n, y: n*y, range(1, (n+1)))\n",
        "\n",
        "print(factorial_n)"
      ],
      "metadata": {
        "colab": {
          "base_uri": "https://localhost:8080/"
        },
        "id": "I3Mq_qAk5IVK",
        "outputId": "c84cab2a-8a75-4c9f-de26-244ea5819fae"
      },
      "execution_count": null,
      "outputs": [
        {
          "output_type": "stream",
          "name": "stdout",
          "text": [
            "120\n"
          ]
        }
      ]
    },
    {
      "cell_type": "code",
      "source": [
        "# Performing custom rolling computation"
      ],
      "metadata": {
        "id": "4F8zR8iaL8q0"
      },
      "execution_count": null,
      "outputs": []
    },
    {
      "cell_type": "code",
      "source": [
        "# Define a list of numbers\n",
        "numbers = {10,20,30,40,50}\n",
        "\n",
        "result = functools.reduce(lambda x,y: (x[0]+y, y), numbers,(0,0))\n",
        "\n",
        "print(result)"
      ],
      "metadata": {
        "colab": {
          "base_uri": "https://localhost:8080/"
        },
        "id": "RfPEg2_jMC7-",
        "outputId": "bb41be3d-6641-4e2e-debf-6fb5cde0f28a"
      },
      "execution_count": null,
      "outputs": [
        {
          "output_type": "stream",
          "name": "stdout",
          "text": [
            "(150, 30)\n"
          ]
        }
      ]
    }
  ]
}